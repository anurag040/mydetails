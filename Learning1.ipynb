{
 "cells": [
  {
   "cell_type": "code",
   "execution_count": 1,
   "id": "6f4033b9-15ae-496b-85a8-4cc5d9100622",
   "metadata": {},
   "outputs": [],
   "source": [
    "import chromadb\n",
    "from IPython.display import display, Markdown"
   ]
  },
  {
   "cell_type": "code",
   "execution_count": 2,
   "id": "fa658359-320e-4ed4-915b-0a6f426b9ae5",
   "metadata": {},
   "outputs": [],
   "source": [
    "# Create a Persistent ChromaDB client (stores data locally)\n",
    "client = chromadb.PersistentClient(path=\"./chroma_db\")"
   ]
  },
  {
   "cell_type": "code",
   "execution_count": 3,
   "id": "4facdd6a-0c13-4af9-a7d8-cb100bcd1a00",
   "metadata": {},
   "outputs": [],
   "source": [
    "# Create or get a collection\n",
    "collection = client.get_or_create_collection(name=\"documents\")"
   ]
  },
  {
   "cell_type": "markdown",
   "id": "9fc9a901-5368-4b2c-b897-9579b15ccf94",
   "metadata": {},
   "source": [
    "What is a Collection?\n",
    "A collection in ChromaDB is similar to a table in a database. It stores vectors along with metadata (like text).\n",
    "\n",
    "Each collection has:\n",
    "✅ A unique name (in this case, \"documents\")\n",
    "✅ Embeddings (numerical vectors representing data)\n",
    "✅ Metadata (extra details like text descriptions)"
   ]
  },
  {
   "cell_type": "code",
   "execution_count": 4,
   "id": "0ee64f8a-091b-47d5-927c-4cd550c6d6a1",
   "metadata": {},
   "outputs": [
    {
     "name": "stderr",
     "output_type": "stream",
     "text": [
      "Add of existing embedding ID: 1\n",
      "Add of existing embedding ID: 2\n",
      "Add of existing embedding ID: 3\n",
      "Insert of existing embedding ID: 1\n",
      "Insert of existing embedding ID: 2\n",
      "Insert of existing embedding ID: 3\n",
      "Add of existing embedding ID: 1\n",
      "Add of existing embedding ID: 2\n",
      "Add of existing embedding ID: 3\n"
     ]
    }
   ],
   "source": [
    "# Add some example vectors (each with an ID and metadata)\n",
    "collection.add(\n",
    "    ids=[\"1\", \"2\", \"3\"],\n",
    "    embeddings=[\n",
    "        [0.1, 0.2, 0.3],  # Vector 1\n",
    "        [0.4, 0.5, 0.6],  # Vector 2\n",
    "        [0.7, 0.8, 0.9]   # Vector 3\n",
    "    ],\n",
    "    metadatas=[\n",
    "        {\"text\": \"Hello world\"},\n",
    "        {\"text\": \"ChromaDB is cool\"},\n",
    "        {\"text\": \"Vector search example\"}\n",
    "    ]\n",
    ")"
   ]
  },
  {
   "cell_type": "code",
   "execution_count": 5,
   "id": "2806dcce-5575-4770-bcb1-92f577d358b7",
   "metadata": {},
   "outputs": [
    {
     "data": {
      "text/markdown": [
       "\n",
       "### 🔍 Query Vector: `[0.45, 0.55, 0.65]`\n",
       "✅ **Closest Match:** `ChromaDB is cool`  \n",
       "📏 **Distance Score:** `0.007500` _(Lower = Better Match)_\n",
       "    "
      ],
      "text/plain": [
       "<IPython.core.display.Markdown object>"
      ]
     },
     "metadata": {},
     "output_type": "display_data"
    }
   ],
   "source": [
    "# Function to find closest match\n",
    "def find_closest_match(query_vector, top_n=1):\n",
    "    results = collection.query(\n",
    "        query_embeddings=[query_vector],\n",
    "        n_results=top_n\n",
    "    )\n",
    "\n",
    "    # Extract relevant details\n",
    "    closest_match_text = results[\"metadatas\"][0][0][\"text\"]\n",
    "    distance_score = results[\"distances\"][0][0]\n",
    "\n",
    "    # Format output\n",
    "    output_md = f\"\"\"\n",
    "### 🔍 Query Vector: `{query_vector}`\n",
    "✅ **Closest Match:** `{closest_match_text}`  \n",
    "📏 **Distance Score:** `{distance_score:.6f}` _(Lower = Better Match)_\n",
    "    \"\"\"\n",
    "    \n",
    "    display(Markdown(output_md))  # Render formatted output in Jupyter Notebook\n",
    "\n",
    "# Example Query\n",
    "query_vector = [0.45, 0.55, 0.65]\n",
    "find_closest_match(query_vector)"
   ]
  },
  {
   "cell_type": "code",
   "execution_count": 6,
   "id": "8ddc2226-df81-4e31-bcbb-b1a1e70383c3",
   "metadata": {},
   "outputs": [
    {
     "data": {
      "text/markdown": [
       "\n",
       "### 🔍 Query Vector: `[1.45, 0.55, 2.65]`\n",
       "✅ **Closest Match:** `Vector search example`  \n",
       "📏 **Distance Score:** `3.687501` _(Lower = Better Match)_\n",
       "    "
      ],
      "text/plain": [
       "<IPython.core.display.Markdown object>"
      ]
     },
     "metadata": {},
     "output_type": "display_data"
    }
   ],
   "source": [
    "query_vector = [1.45, 0.55, 2.65]\n",
    "find_closest_match(query_vector)"
   ]
  },
  {
   "cell_type": "markdown",
   "id": "5b05bea6-a49c-47b9-84e6-f178af08ee14",
   "metadata": {},
   "source": [
    "How collection.query() Works Internally in ChromaDB"
   ]
  },
  {
   "cell_type": "code",
   "execution_count": 7,
   "id": "215125b4-7560-4740-9424-474f68c7c284",
   "metadata": {},
   "outputs": [],
   "source": [
    "from PIL import Image\n",
    "\n",
    "def load_image_pil(image_path):\n",
    "    image = Image.open(image_path)\n",
    "    image.show()  # Opens the image in the default viewer\n",
    "    return image\n",
    "\n",
    "# Example call\n",
    "image = load_image_pil(\"eucledian_distance.png\")"
   ]
  }
 ],
 "metadata": {
  "kernelspec": {
   "display_name": "Python 3 (ipykernel)",
   "language": "python",
   "name": "python3"
  },
  "language_info": {
   "codemirror_mode": {
    "name": "ipython",
    "version": 3
   },
   "file_extension": ".py",
   "mimetype": "text/x-python",
   "name": "python",
   "nbconvert_exporter": "python",
   "pygments_lexer": "ipython3",
   "version": "3.10.11"
  }
 },
 "nbformat": 4,
 "nbformat_minor": 5
}
